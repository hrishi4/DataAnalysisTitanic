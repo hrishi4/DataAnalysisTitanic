{
 "cells": [
  {
   "cell_type": "markdown",
   "id": "512c0d31",
   "metadata": {
    "papermill": {
     "duration": 0.041725,
     "end_time": "2021-08-29T10:45:01.020789",
     "exception": false,
     "start_time": "2021-08-29T10:45:00.979064",
     "status": "completed"
    },
    "tags": []
   },
   "source": [
    "# Titanic - A Statistical Survival Guide"
   ]
  },
  {
   "cell_type": "code",
   "execution_count": 1,
   "id": "efe54ea0",
   "metadata": {
    "_cell_guid": "b1076dfc-b9ad-4769-8c92-a6c4dae69d19",
    "_uuid": "8f2839f25d086af736a60e9eeb907d3b93b6e0e5",
    "execution": {
     "iopub.execute_input": "2021-08-29T10:45:01.108506Z",
     "iopub.status.busy": "2021-08-29T10:45:01.107209Z",
     "iopub.status.idle": "2021-08-29T10:45:02.076920Z",
     "shell.execute_reply": "2021-08-29T10:45:02.077431Z",
     "shell.execute_reply.started": "2021-08-29T10:34:41.431790Z"
    },
    "papermill": {
     "duration": 1.014725,
     "end_time": "2021-08-29T10:45:02.077868",
     "exception": false,
     "start_time": "2021-08-29T10:45:01.063143",
     "status": "completed"
    },
    "tags": []
   },
   "outputs": [
    {
     "name": "stderr",
     "output_type": "stream",
     "text": [
      "D:\\Softwares\\Anaconda3\\lib\\site-packages\\scipy\\__init__.py:146: UserWarning: A NumPy version >=1.16.5 and <1.23.0 is required for this version of SciPy (detected version 1.23.4\n",
      "  warnings.warn(f\"A NumPy version >={np_minversion} and <{np_maxversion}\"\n"
     ]
    }
   ],
   "source": [
    "# Libraries for Data manipulation\n",
    "import numpy as np \n",
    "import pandas as pd \n",
    "import seaborn as sns\n",
    "\n",
    "# Importing plotting libraries\n",
    "import matplotlib.pyplot as plt\n",
    "%matplotlib inline"
   ]
  },
  {
   "cell_type": "markdown",
   "id": "88d61f05",
   "metadata": {
    "papermill": {
     "duration": 0.041107,
     "end_time": "2021-08-29T10:45:02.161151",
     "exception": false,
     "start_time": "2021-08-29T10:45:02.120044",
     "status": "completed"
    },
    "tags": []
   },
   "source": [
    "## Data Preprocessing"
   ]
  },
  {
   "cell_type": "code",
   "execution_count": 2,
   "id": "37de7c67",
   "metadata": {
    "execution": {
     "iopub.execute_input": "2021-08-29T10:45:02.244690Z",
     "iopub.status.busy": "2021-08-29T10:45:02.243998Z",
     "iopub.status.idle": "2021-08-29T10:45:02.297773Z",
     "shell.execute_reply": "2021-08-29T10:45:02.298266Z",
     "shell.execute_reply.started": "2021-08-29T10:34:42.452090Z"
    },
    "papermill": {
     "duration": 0.097091,
     "end_time": "2021-08-29T10:45:02.298434",
     "exception": false,
     "start_time": "2021-08-29T10:45:02.201343",
     "status": "completed"
    },
    "tags": []
   },
   "outputs": [
    {
     "data": {
      "text/html": [
       "<div>\n",
       "<style scoped>\n",
       "    .dataframe tbody tr th:only-of-type {\n",
       "        vertical-align: middle;\n",
       "    }\n",
       "\n",
       "    .dataframe tbody tr th {\n",
       "        vertical-align: top;\n",
       "    }\n",
       "\n",
       "    .dataframe thead th {\n",
       "        text-align: right;\n",
       "    }\n",
       "</style>\n",
       "<table border=\"1\" class=\"dataframe\">\n",
       "  <thead>\n",
       "    <tr style=\"text-align: right;\">\n",
       "      <th></th>\n",
       "      <th>PassengerId</th>\n",
       "      <th>Survived</th>\n",
       "      <th>Pclass</th>\n",
       "      <th>Name</th>\n",
       "      <th>Sex</th>\n",
       "      <th>Age</th>\n",
       "      <th>SibSp</th>\n",
       "      <th>Parch</th>\n",
       "      <th>Ticket</th>\n",
       "      <th>Fare</th>\n",
       "      <th>Cabin</th>\n",
       "      <th>Embarked</th>\n",
       "    </tr>\n",
       "  </thead>\n",
       "  <tbody>\n",
       "    <tr>\n",
       "      <th>0</th>\n",
       "      <td>1</td>\n",
       "      <td>0</td>\n",
       "      <td>3</td>\n",
       "      <td>Braund, Mr. Owen Harris</td>\n",
       "      <td>male</td>\n",
       "      <td>22.0</td>\n",
       "      <td>1</td>\n",
       "      <td>0</td>\n",
       "      <td>A/5 21171</td>\n",
       "      <td>7.2500</td>\n",
       "      <td>NaN</td>\n",
       "      <td>S</td>\n",
       "    </tr>\n",
       "    <tr>\n",
       "      <th>1</th>\n",
       "      <td>2</td>\n",
       "      <td>1</td>\n",
       "      <td>1</td>\n",
       "      <td>Cumings, Mrs. John Bradley (Florence Briggs Th...</td>\n",
       "      <td>female</td>\n",
       "      <td>38.0</td>\n",
       "      <td>1</td>\n",
       "      <td>0</td>\n",
       "      <td>PC 17599</td>\n",
       "      <td>71.2833</td>\n",
       "      <td>C85</td>\n",
       "      <td>C</td>\n",
       "    </tr>\n",
       "    <tr>\n",
       "      <th>2</th>\n",
       "      <td>3</td>\n",
       "      <td>1</td>\n",
       "      <td>3</td>\n",
       "      <td>Heikkinen, Miss. Laina</td>\n",
       "      <td>female</td>\n",
       "      <td>26.0</td>\n",
       "      <td>0</td>\n",
       "      <td>0</td>\n",
       "      <td>STON/O2. 3101282</td>\n",
       "      <td>7.9250</td>\n",
       "      <td>NaN</td>\n",
       "      <td>S</td>\n",
       "    </tr>\n",
       "    <tr>\n",
       "      <th>3</th>\n",
       "      <td>4</td>\n",
       "      <td>1</td>\n",
       "      <td>1</td>\n",
       "      <td>Futrelle, Mrs. Jacques Heath (Lily May Peel)</td>\n",
       "      <td>female</td>\n",
       "      <td>35.0</td>\n",
       "      <td>1</td>\n",
       "      <td>0</td>\n",
       "      <td>113803</td>\n",
       "      <td>53.1000</td>\n",
       "      <td>C123</td>\n",
       "      <td>S</td>\n",
       "    </tr>\n",
       "    <tr>\n",
       "      <th>4</th>\n",
       "      <td>5</td>\n",
       "      <td>0</td>\n",
       "      <td>3</td>\n",
       "      <td>Allen, Mr. William Henry</td>\n",
       "      <td>male</td>\n",
       "      <td>35.0</td>\n",
       "      <td>0</td>\n",
       "      <td>0</td>\n",
       "      <td>373450</td>\n",
       "      <td>8.0500</td>\n",
       "      <td>NaN</td>\n",
       "      <td>S</td>\n",
       "    </tr>\n",
       "  </tbody>\n",
       "</table>\n",
       "</div>"
      ],
      "text/plain": [
       "   PassengerId  Survived  Pclass  \\\n",
       "0            1         0       3   \n",
       "1            2         1       1   \n",
       "2            3         1       3   \n",
       "3            4         1       1   \n",
       "4            5         0       3   \n",
       "\n",
       "                                                Name     Sex   Age  SibSp  \\\n",
       "0                            Braund, Mr. Owen Harris    male  22.0      1   \n",
       "1  Cumings, Mrs. John Bradley (Florence Briggs Th...  female  38.0      1   \n",
       "2                             Heikkinen, Miss. Laina  female  26.0      0   \n",
       "3       Futrelle, Mrs. Jacques Heath (Lily May Peel)  female  35.0      1   \n",
       "4                           Allen, Mr. William Henry    male  35.0      0   \n",
       "\n",
       "   Parch            Ticket     Fare Cabin Embarked  \n",
       "0      0         A/5 21171   7.2500   NaN        S  \n",
       "1      0          PC 17599  71.2833   C85        C  \n",
       "2      0  STON/O2. 3101282   7.9250   NaN        S  \n",
       "3      0            113803  53.1000  C123        S  \n",
       "4      0            373450   8.0500   NaN        S  "
      ]
     },
     "execution_count": 2,
     "metadata": {},
     "output_type": "execute_result"
    }
   ],
   "source": [
    "# Loading the Dataset\n",
    "train_data = pd.read_csv('train.csv')\n",
    "test_data = pd.read_csv('test.csv')\n",
    "\n",
    "train_data.head()"
   ]
  },
  {
   "cell_type": "code",
   "execution_count": 3,
   "id": "2266cd4c",
   "metadata": {
    "execution": {
     "iopub.execute_input": "2021-08-29T10:45:02.384109Z",
     "iopub.status.busy": "2021-08-29T10:45:02.383417Z",
     "iopub.status.idle": "2021-08-29T10:45:02.389382Z",
     "shell.execute_reply": "2021-08-29T10:45:02.389899Z",
     "shell.execute_reply.started": "2021-08-29T10:34:42.513318Z"
    },
    "papermill": {
     "duration": 0.050807,
     "end_time": "2021-08-29T10:45:02.390082",
     "exception": false,
     "start_time": "2021-08-29T10:45:02.339275",
     "status": "completed"
    },
    "tags": []
   },
   "outputs": [
    {
     "name": "stdout",
     "output_type": "stream",
     "text": [
      "PassengerId      int64\n",
      "Survived         int64\n",
      "Pclass           int64\n",
      "Name            object\n",
      "Sex             object\n",
      "Age            float64\n",
      "SibSp            int64\n",
      "Parch            int64\n",
      "Ticket          object\n",
      "Fare           float64\n",
      "Cabin           object\n",
      "Embarked        object\n",
      "dtype: object\n"
     ]
    }
   ],
   "source": [
    "# Print the datatypes of all columns\n",
    "print(train_data.dtypes)"
   ]
  },
  {
   "cell_type": "code",
   "execution_count": 4,
   "id": "a842bc30",
   "metadata": {
    "execution": {
     "iopub.execute_input": "2021-08-29T10:45:02.483339Z",
     "iopub.status.busy": "2021-08-29T10:45:02.482678Z",
     "iopub.status.idle": "2021-08-29T10:45:02.488019Z",
     "shell.execute_reply": "2021-08-29T10:45:02.487164Z",
     "shell.execute_reply.started": "2021-08-29T10:34:42.523274Z"
    },
    "papermill": {
     "duration": 0.057261,
     "end_time": "2021-08-29T10:45:02.488184",
     "exception": false,
     "start_time": "2021-08-29T10:45:02.430923",
     "status": "completed"
    },
    "tags": []
   },
   "outputs": [
    {
     "name": "stdout",
     "output_type": "stream",
     "text": [
      "Training Data Missing Values:\n",
      " PassengerId      0\n",
      "Survived         0\n",
      "Pclass           0\n",
      "Name             0\n",
      "Sex              0\n",
      "Age            177\n",
      "SibSp            0\n",
      "Parch            0\n",
      "Ticket           0\n",
      "Fare             0\n",
      "Cabin          687\n",
      "Embarked         2\n",
      "dtype: int64\n",
      "\n",
      "Test Data Missing Values:\n",
      " PassengerId      0\n",
      "Pclass           0\n",
      "Name             0\n",
      "Sex              0\n",
      "Age             86\n",
      "SibSp            0\n",
      "Parch            0\n",
      "Ticket           0\n",
      "Fare             1\n",
      "Cabin          327\n",
      "Embarked         0\n",
      "dtype: int64\n"
     ]
    }
   ],
   "source": [
    "# Printing the no. of NaN values in all columns\n",
    "\n",
    "print(\"Training Data Missing Values:\\n\",train_data.isna().sum())\n",
    "print(\"\\nTest Data Missing Values:\\n\",test_data.isna().sum())"
   ]
  },
  {
   "cell_type": "code",
   "execution_count": 5,
   "id": "b0d519d2",
   "metadata": {
    "execution": {
     "iopub.execute_input": "2021-08-29T10:45:02.583573Z",
     "iopub.status.busy": "2021-08-29T10:45:02.582699Z",
     "iopub.status.idle": "2021-08-29T10:45:02.587464Z",
     "shell.execute_reply": "2021-08-29T10:45:02.586809Z",
     "shell.execute_reply.started": "2021-08-29T10:34:42.539105Z"
    },
    "papermill": {
     "duration": 0.057498,
     "end_time": "2021-08-29T10:45:02.587621",
     "exception": false,
     "start_time": "2021-08-29T10:45:02.530123",
     "status": "completed"
    },
    "tags": []
   },
   "outputs": [
    {
     "name": "stdout",
     "output_type": "stream",
     "text": [
      "Cabin: ['n' 'C' 'E' 'G' 'D' 'A' 'B' 'F' 'T']\n"
     ]
    }
   ],
   "source": [
    "# Cabin column seems to have a lot of missing values.\n",
    "# We will replace all values with the first alphabet of the Cabin\n",
    "\n",
    "train_data['Cabin'] = train_data['Cabin'].apply(lambda x: str(x)[0])\n",
    "test_data['Cabin'] = test_data['Cabin'].apply(lambda x: str(x)[0])\n",
    "\n",
    "# Null values will be set to 'n'\n",
    "print(\"Cabin:\", train_data['Cabin'].unique())"
   ]
  },
  {
   "cell_type": "code",
   "execution_count": 6,
   "id": "ee81ef74",
   "metadata": {
    "execution": {
     "iopub.execute_input": "2021-08-29T10:45:02.676648Z",
     "iopub.status.busy": "2021-08-29T10:45:02.675890Z",
     "iopub.status.idle": "2021-08-29T10:45:02.685797Z",
     "shell.execute_reply": "2021-08-29T10:45:02.686463Z",
     "shell.execute_reply.started": "2021-08-29T10:34:42.558743Z"
    },
    "papermill": {
     "duration": 0.057649,
     "end_time": "2021-08-29T10:45:02.686663",
     "exception": false,
     "start_time": "2021-08-29T10:45:02.629014",
     "status": "completed"
    },
    "tags": []
   },
   "outputs": [
    {
     "name": "stdout",
     "output_type": "stream",
     "text": [
      "Number of missing values in the Embarked column:  0\n"
     ]
    }
   ],
   "source": [
    "# First, let's replace NaN embarkations with the modal value of embarkation\n",
    "\n",
    "mode_embarked = train_data['Embarked'].mode()[0]\n",
    "train_data['Embarked'].fillna(value=mode_embarked, inplace=True)\n",
    "\n",
    "print(\"Number of missing values in the Embarked column: \", train_data['Embarked'].isna().sum())"
   ]
  },
  {
   "cell_type": "code",
   "execution_count": 7,
   "id": "91c33101",
   "metadata": {
    "execution": {
     "iopub.execute_input": "2021-08-29T10:45:02.774937Z",
     "iopub.status.busy": "2021-08-29T10:45:02.773929Z",
     "iopub.status.idle": "2021-08-29T10:45:02.786240Z",
     "shell.execute_reply": "2021-08-29T10:45:02.786920Z",
     "shell.execute_reply.started": "2021-08-29T10:34:42.572111Z"
    },
    "papermill": {
     "duration": 0.058067,
     "end_time": "2021-08-29T10:45:02.787173",
     "exception": false,
     "start_time": "2021-08-29T10:45:02.729106",
     "status": "completed"
    },
    "tags": []
   },
   "outputs": [
    {
     "name": "stdout",
     "output_type": "stream",
     "text": [
      "Mean training data is:  29.69911764705882\n",
      "Mean testing data is:  30.272590361445783\n",
      "\n",
      "Number of missing training values in the Age column:  0\n",
      "Number of missing testing values in the Age column:  0\n"
     ]
    }
   ],
   "source": [
    "# Next, let's replace NaN Ages with the mean age in the dataset\n",
    "\n",
    "mean_training_age = train_data['Age'].mean()\n",
    "mean_testing_age = test_data['Age'].mean()\n",
    "\n",
    "print(\"Mean training data is: \", mean_training_age)\n",
    "print(\"Mean testing data is: \",mean_testing_age)\n",
    "\n",
    "# Replace NaN values of Age column with Mean\n",
    "train_data['Age'].fillna(value=mean_training_age, inplace=True)\n",
    "test_data['Age'].fillna(value=mean_testing_age, inplace=True)\n",
    "\n",
    "print(\"\\nNumber of missing training values in the Age column: \", train_data['Age'].isna().sum())\n",
    "print(\"Number of missing testing values in the Age column: \", test_data['Age'].isna().sum())"
   ]
  },
  {
   "cell_type": "code",
   "execution_count": 8,
   "id": "24eaa3c7",
   "metadata": {
    "execution": {
     "iopub.execute_input": "2021-08-29T10:45:02.880102Z",
     "iopub.status.busy": "2021-08-29T10:45:02.879024Z",
     "iopub.status.idle": "2021-08-29T10:45:02.883952Z",
     "shell.execute_reply": "2021-08-29T10:45:02.884392Z",
     "shell.execute_reply.started": "2021-08-29T10:34:42.591199Z"
    },
    "papermill": {
     "duration": 0.055024,
     "end_time": "2021-08-29T10:45:02.884599",
     "exception": false,
     "start_time": "2021-08-29T10:45:02.829575",
     "status": "completed"
    },
    "tags": []
   },
   "outputs": [
    {
     "name": "stdout",
     "output_type": "stream",
     "text": [
      "Mean Fare in the testing data is:  35.6271884892086\n",
      "Number of missing testing values in the fare column:  0\n"
     ]
    }
   ],
   "source": [
    "# First, we'll fix 1 NaN value in fare column of test data\n",
    "\n",
    "mean_testing_fare = test_data['Fare'].mean()\n",
    "test_data['Fare'].fillna(value=mean_testing_fare, inplace=True)\n",
    "\n",
    "print(\"Mean Fare in the testing data is: \", mean_testing_fare)\n",
    "print(\"Number of missing testing values in the fare column: \", test_data['Fare'].isna().sum())"
   ]
  },
  {
   "cell_type": "code",
   "execution_count": 9,
   "id": "eb4dfe7c",
   "metadata": {
    "execution": {
     "iopub.execute_input": "2021-08-29T10:45:02.980153Z",
     "iopub.status.busy": "2021-08-29T10:45:02.979171Z",
     "iopub.status.idle": "2021-08-29T10:45:02.983187Z",
     "shell.execute_reply": "2021-08-29T10:45:02.982548Z",
     "shell.execute_reply.started": "2021-08-29T10:34:42.602963Z"
    },
    "papermill": {
     "duration": 0.056698,
     "end_time": "2021-08-29T10:45:02.983333",
     "exception": false,
     "start_time": "2021-08-29T10:45:02.926635",
     "status": "completed"
    },
    "tags": []
   },
   "outputs": [
    {
     "name": "stdout",
     "output_type": "stream",
     "text": [
      "Training Data Missing Values:\n",
      " PassengerId    0\n",
      "Survived       0\n",
      "Pclass         0\n",
      "Name           0\n",
      "Sex            0\n",
      "Age            0\n",
      "SibSp          0\n",
      "Parch          0\n",
      "Ticket         0\n",
      "Fare           0\n",
      "Cabin          0\n",
      "Embarked       0\n",
      "dtype: int64\n",
      "\n",
      "Test Data Missing Values:\n",
      " PassengerId    0\n",
      "Pclass         0\n",
      "Name           0\n",
      "Sex            0\n",
      "Age            0\n",
      "SibSp          0\n",
      "Parch          0\n",
      "Ticket         0\n",
      "Fare           0\n",
      "Cabin          0\n",
      "Embarked       0\n",
      "dtype: int64\n"
     ]
    }
   ],
   "source": [
    "# A Final check to ensure no null values remain\n",
    "\n",
    "print(\"Training Data Missing Values:\\n\",train_data.isna().sum())\n",
    "print(\"\\nTest Data Missing Values:\\n\",test_data.isna().sum())"
   ]
  },
  {
   "cell_type": "markdown",
   "id": "8c5110d4",
   "metadata": {
    "papermill": {
     "duration": 0.042862,
     "end_time": "2021-08-29T10:45:03.070223",
     "exception": false,
     "start_time": "2021-08-29T10:45:03.027361",
     "status": "completed"
    },
    "tags": []
   },
   "source": [
    "## Visualizing The Data"
   ]
  },
  {
   "cell_type": "code",
   "execution_count": 10,
   "id": "4d065849",
   "metadata": {
    "execution": {
     "iopub.execute_input": "2021-08-29T10:45:03.184144Z",
     "iopub.status.busy": "2021-08-29T10:45:03.174633Z",
     "iopub.status.idle": "2021-08-29T10:45:03.587433Z",
     "shell.execute_reply": "2021-08-29T10:45:03.587943Z",
     "shell.execute_reply.started": "2021-08-29T10:34:42.624684Z"
    },
    "papermill": {
     "duration": 0.474301,
     "end_time": "2021-08-29T10:45:03.588114",
     "exception": false,
     "start_time": "2021-08-29T10:45:03.113813",
     "status": "completed"
    },
    "tags": []
   },
   "outputs": [
    {
     "data": {
      "image/png": "[encoded data removed]",
      "text/plain": [
       "<Figure size 1440x2520 with 3 Axes>"
      ]
     },
     "metadata": {},
     "output_type": "display_data"
    }
   ],
   "source": [
    "# Class wise Survival\n",
    "\n",
    "pclasses = np.sort(train_data.Pclass.unique())\n",
    "\n",
    "labels = ['Survived', 'Died']\n",
    "fig, axes = plt.subplots(1, 3, figsize=(20, 35))\n",
    "axes_flat = axes.flatten()\n",
    "explode = (0, 0.1)\n",
    "\n",
    "for i in range(len(pclasses)):\n",
    "    axis = axes_flat[i]\n",
    "    \n",
    "    pclass_data = train_data[train_data.Pclass == pclasses[i]]\n",
    "    survived = pclass_data[pclass_data.Survived == 1].shape[0]\n",
    "    died = pclass_data.Survived.shape[0] - survived\n",
    "    \n",
    "    axis.pie([survived, died], labels=labels, explode=explode, \n",
    "             shadow=True, startangle=90, autopct='%1.1f%%',\n",
    "             textprops={'fontsize': 16})\n",
    "    axis.set_title(\"Class {} Passesngers\".format(pclasses[i]), fontdict={'size':16})\n",
    "\n",
    "plt.text(x=-4, y=2, s=\"Passenger Class Wise Survival\", fontdict={'size':18})\n",
    "plt.show()"
   ]
  },
  {
   "cell_type": "markdown",
   "id": "284a1e6b",
   "metadata": {
    "papermill": {
     "duration": 0.046176,
     "end_time": "2021-08-29T10:45:03.679334",
     "exception": false,
     "start_time": "2021-08-29T10:45:03.633158",
     "status": "completed"
    },
    "tags": []
   },
   "source": [
    "**Class Matters**\n",
    "\n",
    "![Image](http://rpmarchildon.com/wp-content/uploads/2018/06/titanic_class_cabin_locations.png)&nbsp;\n",
    "\n",
    "\n",
    "The above image shows where different classes of passengers stayed.&nbsp;\n",
    "\n",
    "The image clearly shows that Class 1 and Class 2 were closer to the deck and hence to the lifeboats.\n",
    "\n",
    "Thus they had an obvious survival advantage, with more than 60 and 45 percent chance of survival."
   ]
  },
  {
   "cell_type": "code",
   "execution_count": 11,
   "id": "45e65678",
   "metadata": {
    "execution": {
     "iopub.execute_input": "2021-08-29T10:45:03.774221Z",
     "iopub.status.busy": "2021-08-29T10:45:03.773571Z",
     "iopub.status.idle": "2021-08-29T10:45:04.019867Z",
     "shell.execute_reply": "2021-08-29T10:45:04.020337Z",
     "shell.execute_reply.started": "2021-08-29T10:34:43.055040Z"
    },
    "papermill": {
     "duration": 0.294729,
     "end_time": "2021-08-29T10:45:04.020516",
     "exception": false,
     "start_time": "2021-08-29T10:45:03.725787",
     "status": "completed"
    },
    "tags": []
   },
   "outputs": [
    {
     "data": {
      "image/png": "[encoded data removed]",
      "text/plain": [
       "<Figure size 1080x1440 with 2 Axes>"
      ]
     },
     "metadata": {},
     "output_type": "display_data"
    }
   ],
   "source": [
    "# Gender wise Survival\n",
    "\n",
    "gender = ['male', 'female']\n",
    "labels = ['Survived', 'Died']\n",
    "\n",
    "fig, axes = plt.subplots(1, 2, figsize=(15, 20))\n",
    "axes_flat = axes.flatten()\n",
    "explode = (0, 0.1)\n",
    "\n",
    "for i in range(len(gender)):\n",
    "    axis = axes_flat[i]\n",
    "    \n",
    "    gender_data = train_data[train_data.Sex == gender[i]]\n",
    "    survived = gender_data[gender_data.Survived == 1].shape[0]\n",
    "    died = gender_data.Survived.shape[0] - survived\n",
    "    \n",
    "    axis.pie([survived, died], labels=labels, explode=explode, \n",
    "             shadow=True, startangle=90, autopct='%1.1f%%', \n",
    "             textprops={'fontsize': 16})\n",
    "    axis.set_title(\"Gender: {}\".format(gender[i]), fontdict={'fontsize':16})\n",
    "\n",
    "plt.text(x=-2, y=2, s=\"Gender Wise Survival\", fontdict={'size':18})\n",
    "plt.show()"
   ]
  },
  {
   "cell_type": "markdown",
   "id": "0a6848ae",
   "metadata": {
    "papermill": {
     "duration": 0.046533,
     "end_time": "2021-08-29T10:45:04.114744",
     "exception": false,
     "start_time": "2021-08-29T10:45:04.068211",
     "status": "completed"
    },
    "tags": []
   },
   "source": [
    "**The Unspoken *Women First* Rule**\n",
    "\n",
    "The above mentioned statistics highlight the common notion about any emergency evacuation. \n",
    "Women and children are given priority, their lives are saved first in a life-threatening situation.\n",
    "\n",
    "It must be stated here that there is no maritime law/protocol stated related to this. The most vulnerable people, those in need of help must be prioritised in any emergency situation."
   ]
  },
  {
   "cell_type": "code",
   "execution_count": 12,
   "id": "002b0c8e",
   "metadata": {
    "execution": {
     "iopub.execute_input": "2021-08-29T10:45:04.211491Z",
     "iopub.status.busy": "2021-08-29T10:45:04.210822Z",
     "iopub.status.idle": "2021-08-29T10:45:04.501946Z",
     "shell.execute_reply": "2021-08-29T10:45:04.502455Z",
     "shell.execute_reply.started": "2021-08-29T10:34:43.312042Z"
    },
    "papermill": {
     "duration": 0.341534,
     "end_time": "2021-08-29T10:45:04.502689",
     "exception": false,
     "start_time": "2021-08-29T10:45:04.161155",
     "status": "completed"
    },
    "tags": []
   },
   "outputs": [
    {
     "data": {
      "text/plain": [
       "<Figure size 864x432 with 0 Axes>"
      ]
     },
     "metadata": {},
     "output_type": "display_data"
    },
    {
     "data": {
      "image/png": "[encoded data removed]",
      "text/plain": [
       "<Figure size 402.375x360 with 1 Axes>"
      ]
     },
     "metadata": {
      "needs_background": "light"
     },
     "output_type": "display_data"
    }
   ],
   "source": [
    "# Place of Embarkment and Survival Rate\n",
    "\n",
    "plt.figure(figsize=(12,6))\n",
    "sns.catplot(x='Embarked', y='Survived', ci=None, kind='bar', hue='Pclass', data=train_data)\n",
    "\n",
    "plt.show()"
   ]
  },
  {
   "cell_type": "markdown",
   "id": "b8fa20fc",
   "metadata": {
    "papermill": {
     "duration": 0.047427,
     "end_time": "2021-08-29T10:45:04.599069",
     "exception": false,
     "start_time": "2021-08-29T10:45:04.551642",
     "status": "completed"
    },
    "tags": []
   },
   "source": [
    "The above graph shows the chance of survival according to the port of embarkment. \n",
    "\n",
    "It is interesting to note that class 2 passengers who boarded at Queenstown (Q) had a better survival rate than class 1 passengers from Queenstown and almost comparable to class 1 passengers from Cherbourg. \n",
    "\n",
    "We will look more into why this was the case."
   ]
  },
  {
   "cell_type": "code",
   "execution_count": 13,
   "id": "faae77bd",
   "metadata": {
    "execution": {
     "iopub.execute_input": "2021-08-29T10:45:04.698657Z",
     "iopub.status.busy": "2021-08-29T10:45:04.697970Z",
     "iopub.status.idle": "2021-08-29T10:45:04.706907Z",
     "shell.execute_reply": "2021-08-29T10:45:04.707384Z",
     "shell.execute_reply.started": "2021-08-29T10:34:43.660851Z"
    },
    "papermill": {
     "duration": 0.060903,
     "end_time": "2021-08-29T10:45:04.707573",
     "exception": false,
     "start_time": "2021-08-29T10:45:04.646670",
     "status": "completed"
    },
    "tags": []
   },
   "outputs": [
    {
     "data": {
      "text/plain": [
       "Embarked\n",
       "C     93\n",
       "Q     30\n",
       "S    219\n",
       "Name: Survived, dtype: int64"
      ]
     },
     "execution_count": 13,
     "metadata": {},
     "output_type": "execute_result"
    }
   ],
   "source": [
    "# Finding Embarkment wise survival\n",
    "grouped_survived = train_data.groupby(['Embarked'])['Survived'].sum()\n",
    "grouped_survived"
   ]
  },
  {
   "cell_type": "code",
   "execution_count": 14,
   "id": "88404108",
   "metadata": {
    "execution": {
     "iopub.execute_input": "2021-08-29T10:45:04.809403Z",
     "iopub.status.busy": "2021-08-29T10:45:04.808698Z",
     "iopub.status.idle": "2021-08-29T10:45:04.820239Z",
     "shell.execute_reply": "2021-08-29T10:45:04.820735Z",
     "shell.execute_reply.started": "2021-08-29T10:34:43.672922Z"
    },
    "papermill": {
     "duration": 0.064511,
     "end_time": "2021-08-29T10:45:04.820915",
     "exception": false,
     "start_time": "2021-08-29T10:45:04.756404",
     "status": "completed"
    },
    "tags": []
   },
   "outputs": [
    {
     "name": "stdout",
     "output_type": "stream",
     "text": [
      "Total number of passengers survived from Queenstown are/is: 30\n",
      "Total number of passengers of class 2 from Queenstown are/is: 3\n",
      "Number of class 2 passengers that survived from Queenstown are/is: 2\n"
     ]
    }
   ],
   "source": [
    "# Finding the number of class 1 passengers from queenstown\n",
    "num_queenstown = train_data[train_data['Embarked'] == 'Q']\n",
    "num_class = num_queenstown[num_queenstown['Pclass'] == 2]\n",
    "num_survived = num_class[num_class['Survived'] == 1]\n",
    "\n",
    "print(\"Total number of passengers survived from Queenstown are/is:\", grouped_survived['Q'])\n",
    "print(\"Total number of passengers of class 2 from Queenstown are/is:\",num_class['PassengerId'].count())\n",
    "print(\"Number of class 2 passengers that survived from Queenstown are/is:\", num_survived['PassengerId'].count())"
   ]
  },
  {
   "cell_type": "markdown",
   "id": "fb2ecfea",
   "metadata": {
    "papermill": {
     "duration": 0.048961,
     "end_time": "2021-08-29T10:45:04.919146",
     "exception": false,
     "start_time": "2021-08-29T10:45:04.870185",
     "status": "completed"
    },
    "tags": []
   },
   "source": [
    "Well, it seems that the number of passengers in class 2 from Quenstown were only 3\n",
    "\n",
    "Hence it will be wrong to assume anything for the passengers who boarded from Queenstown solely based on the Port of Embarkment."
   ]
  },
  {
   "cell_type": "code",
   "execution_count": 15,
   "id": "f0178646",
   "metadata": {
    "execution": {
     "iopub.execute_input": "2021-08-29T10:45:05.030134Z",
     "iopub.status.busy": "2021-08-29T10:45:05.029144Z",
     "iopub.status.idle": "2021-08-29T10:45:05.433135Z",
     "shell.execute_reply": "2021-08-29T10:45:05.433665Z",
     "shell.execute_reply.started": "2021-08-29T10:34:43.690425Z"
    },
    "papermill": {
     "duration": 0.464364,
     "end_time": "2021-08-29T10:45:05.433851",
     "exception": false,
     "start_time": "2021-08-29T10:45:04.969487",
     "status": "completed"
    },
    "tags": []
   },
   "outputs": [
    {
     "data": {
      "image/png": "[encoded data removed]",
      "text/plain": [
       "<Figure size 864x576 with 1 Axes>"
      ]
     },
     "metadata": {
      "needs_background": "light"
     },
     "output_type": "display_data"
    }
   ],
   "source": [
    "# Cabin, class and Fare prices\n",
    "plt.figure(figsize=(12,8))\n",
    "sns.boxplot(y='Cabin', x='Fare', data=train_data)\n",
    "plt.title(\"Cabin vs Fare\")\n",
    "\n",
    "plt.show()"
   ]
  },
  {
   "cell_type": "markdown",
   "id": "13b3ab18",
   "metadata": {
    "papermill": {
     "duration": 0.051272,
     "end_time": "2021-08-29T10:45:05.535411",
     "exception": false,
     "start_time": "2021-08-29T10:45:05.484139",
     "status": "completed"
    },
    "tags": []
   },
   "source": [
    "It is observed that, in general Cabins B and C have a higher fare/cost. "
   ]
  },
  {
   "cell_type": "markdown",
   "id": "33d639d1",
   "metadata": {
    "papermill": {
     "duration": 0.049518,
     "end_time": "2021-08-29T10:45:05.636670",
     "exception": false,
     "start_time": "2021-08-29T10:45:05.587152",
     "status": "completed"
    },
    "tags": []
   },
   "source": [
    "<img src=\"https://upload.wikimedia.org/wikipedia/commons/0/0d/Olympic_%26_Titanic_cutaway_diagram.png\" \n",
    "     alt=\"diagram\" width=\"500\" style=\"  display: block; margin-left: auto; margin-right: auto;\"/>"
   ]
  },
  {
   "cell_type": "markdown",
   "id": "518fd387",
   "metadata": {
    "papermill": {
     "duration": 0.050113,
     "end_time": "2021-08-29T10:45:05.738706",
     "exception": false,
     "start_time": "2021-08-29T10:45:05.688593",
     "status": "completed"
    },
    "tags": []
   },
   "source": [
    "The above picture shows the cabin layout for the ship. \n",
    "\n",
    "The Cabins A, B and C are closer to the deck, and thus the passengers in these decks will have a better survival chance."
   ]
  },
  {
   "cell_type": "code",
   "execution_count": 16,
   "id": "61be298f",
   "metadata": {
    "execution": {
     "iopub.execute_input": "2021-08-29T10:45:05.869993Z",
     "iopub.status.busy": "2021-08-29T10:45:05.865927Z",
     "iopub.status.idle": "2021-08-29T10:45:06.486130Z",
     "shell.execute_reply": "2021-08-29T10:45:06.485518Z",
     "shell.execute_reply.started": "2021-08-29T10:34:44.091876Z"
    },
    "papermill": {
     "duration": 0.697284,
     "end_time": "2021-08-29T10:45:06.486277",
     "exception": false,
     "start_time": "2021-08-29T10:45:05.788993",
     "status": "completed"
    },
    "tags": []
   },
   "outputs": [
    {
     "data": {
      "image/png": "[encoded data removed]",
      "text/plain": [
       "<Figure size 1152x432 with 2 Axes>"
      ]
     },
     "metadata": {
      "needs_background": "light"
     },
     "output_type": "display_data"
    }
   ],
   "source": [
    "# Age wise Survival\n",
    "\n",
    "gender = ['male', 'female']\n",
    "fig, axes = plt.subplots(1, 2, figsize=(16, 6))\n",
    "axes_flat = axes.flatten()\n",
    "x_ticks = [i for i in range(0, 90, 10)]\n",
    "y_ticks = [i for i in range(0, 150, 10)]\n",
    "\n",
    "for i in range(len(gender)):                                        # For male and female\n",
    "    axis = axes_flat[i]\n",
    "    \n",
    "    gender_data = train_data[train_data.Sex == gender[i]]\n",
    "    sns.histplot(data=gender_data, x=gender_data.Age, hue='Survived', ax=axis)\n",
    "    \n",
    "    axis.set_xticks(x_ticks)\n",
    "    axis.set_xticklabels(x_ticks)\n",
    "    axis.set_yticks(y_ticks)\n",
    "    axis.set_yticklabels(y_ticks)\n",
    "    axis.set_title(\"Gender: {}\".format(gender[i]), fontdict={'fontsize':16})\n",
    "\n",
    "plt.text(s=\"Gender Wise Survival\", y=160, x=-30, fontdict={'size':18})\n",
    "plt.show()"
   ]
  },
  {
   "cell_type": "markdown",
   "id": "a98e04ea",
   "metadata": {
    "papermill": {
     "duration": 0.04995,
     "end_time": "2021-08-29T10:45:06.587048",
     "exception": false,
     "start_time": "2021-08-29T10:45:06.537098",
     "status": "completed"
    },
    "tags": []
   },
   "source": [
    "Both the graphs exhibit a normal distribution, the only difference being the lower percentage of survival in each age category for males.\n",
    "\n",
    "While females have a 50percent survival chance in almost every age group, no ages of males who survived dominates the ones who did not.\n",
    "\n",
    "Apart from the Gender bias, it seems that the percent of passengers (children below 20) seem to have a better survival rate. Age group 15-30 have a mediocre survival chance."
   ]
  },
  {
   "cell_type": "code",
   "execution_count": 17,
   "id": "8d66dd4f",
   "metadata": {
    "execution": {
     "iopub.execute_input": "2021-08-29T10:45:06.696186Z",
     "iopub.status.busy": "2021-08-29T10:45:06.695553Z",
     "iopub.status.idle": "2021-08-29T10:45:06.703793Z",
     "shell.execute_reply": "2021-08-29T10:45:06.703069Z",
     "shell.execute_reply.started": "2021-08-29T10:34:44.727215Z"
    },
    "papermill": {
     "duration": 0.066516,
     "end_time": "2021-08-29T10:45:06.703939",
     "exception": false,
     "start_time": "2021-08-29T10:45:06.637423",
     "status": "completed"
    },
    "tags": []
   },
   "outputs": [
    {
     "data": {
      "text/plain": [
       "count        891\n",
       "unique       681\n",
       "top       347082\n",
       "freq           7\n",
       "Name: Ticket, dtype: object"
      ]
     },
     "execution_count": 17,
     "metadata": {},
     "output_type": "execute_result"
    }
   ],
   "source": [
    "# Analysing ticket data\n",
    "train_data.Ticket.describe()"
   ]
  },
  {
   "cell_type": "code",
   "execution_count": 18,
   "id": "5d2bb7f1",
   "metadata": {
    "execution": {
     "iopub.execute_input": "2021-08-29T10:45:06.810831Z",
     "iopub.status.busy": "2021-08-29T10:45:06.809841Z",
     "iopub.status.idle": "2021-08-29T10:45:06.819167Z",
     "shell.execute_reply": "2021-08-29T10:45:06.818471Z",
     "shell.execute_reply.started": "2021-08-29T10:34:44.740685Z"
    },
    "papermill": {
     "duration": 0.063662,
     "end_time": "2021-08-29T10:45:06.819311",
     "exception": false,
     "start_time": "2021-08-29T10:45:06.755649",
     "status": "completed"
    },
    "tags": []
   },
   "outputs": [],
   "source": [
    "# Since the number of unique values in ticket is too large, it cannot be generalised and used.\n",
    "# Thus we drop the column entirely\n",
    "\n",
    "train_data.drop(labels=\"Ticket\", axis=1 ,inplace=True)\n",
    "test_data.drop(labels=\"Ticket\", axis=1 ,inplace=True)"
   ]
  },
  {
   "cell_type": "code",
   "execution_count": 19,
   "id": "bc15537a",
   "metadata": {
    "execution": {
     "iopub.execute_input": "2021-08-29T10:45:06.927221Z",
     "iopub.status.busy": "2021-08-29T10:45:06.926496Z",
     "iopub.status.idle": "2021-08-29T10:45:07.055161Z",
     "shell.execute_reply": "2021-08-29T10:45:07.053955Z",
     "shell.execute_reply.started": "2021-08-29T10:34:44.752668Z"
    },
    "papermill": {
     "duration": 0.184733,
     "end_time": "2021-08-29T10:45:07.055308",
     "exception": false,
     "start_time": "2021-08-29T10:45:06.870575",
     "status": "completed"
    },
    "tags": []
   },
   "outputs": [],
   "source": [
    "# Used to encode categorical values\n",
    "\n",
    "from sklearn.preprocessing import LabelEncoder\n",
    "encoder = LabelEncoder()"
   ]
  },
  {
   "cell_type": "code",
   "execution_count": 20,
   "id": "f6b91804",
   "metadata": {
    "execution": {
     "iopub.execute_input": "2021-08-29T10:45:07.165086Z",
     "iopub.status.busy": "2021-08-29T10:45:07.164079Z",
     "iopub.status.idle": "2021-08-29T10:45:07.167275Z",
     "shell.execute_reply": "2021-08-29T10:45:07.166662Z",
     "shell.execute_reply.started": "2021-08-29T10:34:44.893163Z"
    },
    "papermill": {
     "duration": 0.061432,
     "end_time": "2021-08-29T10:45:07.167431",
     "exception": false,
     "start_time": "2021-08-29T10:45:07.105999",
     "status": "completed"
    },
    "tags": []
   },
   "outputs": [],
   "source": [
    "# Encoding Sex with 0 and 1\n",
    "train_data['Sex'] = encoder.fit_transform(train_data['Sex'])\n",
    "test_data['Sex'] = encoder.transform(test_data['Sex'])"
   ]
  },
  {
   "cell_type": "code",
   "execution_count": 21,
   "id": "fe9043ad",
   "metadata": {
    "execution": {
     "iopub.execute_input": "2021-08-29T10:45:07.275116Z",
     "iopub.status.busy": "2021-08-29T10:45:07.274107Z",
     "iopub.status.idle": "2021-08-29T10:45:07.282307Z",
     "shell.execute_reply": "2021-08-29T10:45:07.282919Z",
     "shell.execute_reply.started": "2021-08-29T10:34:44.905046Z"
    },
    "papermill": {
     "duration": 0.063137,
     "end_time": "2021-08-29T10:45:07.283114",
     "exception": false,
     "start_time": "2021-08-29T10:45:07.219977",
     "status": "completed"
    },
    "tags": []
   },
   "outputs": [],
   "source": [
    "# Similarly, we encode all the ports\n",
    "\n",
    "train_data['Embarked'] = encoder.fit_transform(train_data['Embarked'])\n",
    "test_data['Embarked'] = encoder.transform(test_data['Embarked'])"
   ]
  },
  {
   "cell_type": "code",
   "execution_count": 22,
   "id": "1a03475a",
   "metadata": {
    "execution": {
     "iopub.execute_input": "2021-08-29T10:45:07.389607Z",
     "iopub.status.busy": "2021-08-29T10:45:07.388569Z",
     "iopub.status.idle": "2021-08-29T10:45:07.395021Z",
     "shell.execute_reply": "2021-08-29T10:45:07.395583Z",
     "shell.execute_reply.started": "2021-08-29T10:34:44.923080Z"
    },
    "papermill": {
     "duration": 0.061628,
     "end_time": "2021-08-29T10:45:07.395760",
     "exception": false,
     "start_time": "2021-08-29T10:45:07.334132",
     "status": "completed"
    },
    "tags": []
   },
   "outputs": [],
   "source": [
    "# And then we also encode cabin data\n",
    "\n",
    "train_data['Cabin'] = encoder.fit_transform(train_data['Cabin'])\n",
    "test_data['Cabin'] = encoder.transform(test_data['Cabin'])"
   ]
  },
  {
   "cell_type": "markdown",
   "id": "3e266f64",
   "metadata": {
    "papermill": {
     "duration": 0.053513,
     "end_time": "2021-08-29T10:45:07.501145",
     "exception": false,
     "start_time": "2021-08-29T10:45:07.447632",
     "status": "completed"
    },
    "tags": []
   },
   "source": [
    "### Feature Engineering"
   ]
  },
  {
   "cell_type": "code",
   "execution_count": 23,
   "id": "30963fd7",
   "metadata": {
    "execution": {
     "iopub.execute_input": "2021-08-29T10:45:07.607525Z",
     "iopub.status.busy": "2021-08-29T10:45:07.606506Z",
     "iopub.status.idle": "2021-08-29T10:45:07.626326Z",
     "shell.execute_reply": "2021-08-29T10:45:07.625770Z",
     "shell.execute_reply.started": "2021-08-29T10:34:44.934909Z"
    },
    "papermill": {
     "duration": 0.074056,
     "end_time": "2021-08-29T10:45:07.626480",
     "exception": false,
     "start_time": "2021-08-29T10:45:07.552424",
     "status": "completed"
    },
    "tags": []
   },
   "outputs": [
    {
     "name": "stdout",
     "output_type": "stream",
     "text": [
      "Training data titles: \n",
      " ['Mr' 'Mrs/Ms/Miss' 'Master' 'Nobility/Doctor/Clergy/Navy' 'Noble Females']\n",
      "\n",
      "Testing data titles: \n",
      " ['Mr' 'Mrs/Ms/Miss' 'Master' 'Nobility/Doctor/Clergy/Navy' 'Dona']\n"
     ]
    }
   ],
   "source": [
    "# Making a new Feature called Title\n",
    "\n",
    "data_all = [train_data, test_data]\n",
    "\n",
    "for data in data_all:\n",
    "    data['Title'] = data['Name'].apply(lambda x: x.split(\", \")\n",
    "    [1].split(\".\")[0])\n",
    "\n",
    "    # Grouping similar titles\n",
    "    data['Title'].replace(['Miss', 'Mrs', 'Mme', 'Mlle', 'Ms'], 'Mrs/Ms/Miss', inplace=True)\n",
    "    data['Title'].replace(['Lady', 'the Countess'], 'Noble Females', inplace=True)\n",
    "    data['Title'].replace(['Dr', 'Don', 'Rev', 'Col', 'Capt', 'Jonkheer', 'Major', 'Sir'], \n",
    "                          'Nobility/Doctor/Clergy/Navy', inplace=True)\n",
    "    \n",
    "print(\"Training data titles: \\n\", train_data['Title'].unique())\n",
    "print(\"\\nTesting data titles: \\n\", test_data['Title'].unique())"
   ]
  },
  {
   "cell_type": "code",
   "execution_count": 24,
   "id": "ef45017e",
   "metadata": {
    "execution": {
     "iopub.execute_input": "2021-08-29T10:45:07.740744Z",
     "iopub.status.busy": "2021-08-29T10:45:07.739920Z",
     "iopub.status.idle": "2021-08-29T10:45:07.744031Z",
     "shell.execute_reply": "2021-08-29T10:45:07.743503Z",
     "shell.execute_reply.started": "2021-08-29T10:34:44.956885Z"
    },
    "papermill": {
     "duration": 0.065205,
     "end_time": "2021-08-29T10:45:07.744176",
     "exception": false,
     "start_time": "2021-08-29T10:45:07.678971",
     "status": "completed"
    },
    "tags": []
   },
   "outputs": [
    {
     "name": "stdout",
     "output_type": "stream",
     "text": [
      "Testing data titles: \n",
      " ['Mr' 'Mrs/Ms/Miss' 'Master' 'Nobility/Doctor/Clergy/Navy']\n"
     ]
    }
   ],
   "source": [
    "# We observe that we get an exception where title is set as Dona\n",
    "# Let us replace it with Mrs/Ms/Miss title\n",
    "\n",
    "test_data['Title'].replace('Dona', 'Mrs/Ms/Miss', inplace=True)\n",
    "print('Testing data titles: \\n', test_data['Title'].unique())"
   ]
  },
  {
   "cell_type": "code",
   "execution_count": 25,
   "id": "a848a0b1",
   "metadata": {
    "execution": {
     "iopub.execute_input": "2021-08-29T10:45:07.892436Z",
     "iopub.status.busy": "2021-08-29T10:45:07.889584Z",
     "iopub.status.idle": "2021-08-29T10:45:08.093447Z",
     "shell.execute_reply": "2021-08-29T10:45:08.093970Z",
     "shell.execute_reply.started": "2021-08-29T10:34:44.969482Z"
    },
    "papermill": {
     "duration": 0.298267,
     "end_time": "2021-08-29T10:45:08.094150",
     "exception": false,
     "start_time": "2021-08-29T10:45:07.795883",
     "status": "completed"
    },
    "tags": []
   },
   "outputs": [
    {
     "data": {
      "image/png": "[encoded data removed]",
      "text/plain": [
       "<Figure size 720x432 with 1 Axes>"
      ]
     },
     "metadata": {
      "needs_background": "light"
     },
     "output_type": "display_data"
    }
   ],
   "source": [
    "# Plotting and analysing data with the help of the new feature\n",
    "\n",
    "plt.figure(figsize=(10,6))\n",
    "plt.xlabel('Titles', fontsize=16)\n",
    "plt.xticks(fontsize=14, rotation=45)\n",
    "plt.ylabel('Count', fontsize=16)\n",
    "\n",
    "sns.histplot(data=train_data, x=train_data['Title'], hue='Survived', multiple='stack')\n",
    "\n",
    "plt.title('Survival Based On Title Held By The Passenger', fontsize=18)\n",
    "plt.show()"
   ]
  },
  {
   "cell_type": "code",
   "execution_count": 26,
   "id": "daf303b4",
   "metadata": {
    "execution": {
     "iopub.execute_input": "2021-08-29T10:45:08.207825Z",
     "iopub.status.busy": "2021-08-29T10:45:08.207075Z",
     "iopub.status.idle": "2021-08-29T10:45:08.209127Z",
     "shell.execute_reply": "2021-08-29T10:45:08.209605Z",
     "shell.execute_reply.started": "2021-08-29T10:34:45.211385Z"
    },
    "papermill": {
     "duration": 0.062372,
     "end_time": "2021-08-29T10:45:08.209781",
     "exception": false,
     "start_time": "2021-08-29T10:45:08.147409",
     "status": "completed"
    },
    "tags": []
   },
   "outputs": [],
   "source": [
    "# Finally, we encode the new feature created\n",
    "\n",
    "train_data['Title'] = encoder.fit_transform(train_data['Title'])\n",
    "test_data['Title'] = encoder.transform(test_data['Title'])"
   ]
  },
  {
   "cell_type": "markdown",
   "id": "472a903d",
   "metadata": {
    "papermill": {
     "duration": 0.053198,
     "end_time": "2021-08-29T10:45:08.316721",
     "exception": false,
     "start_time": "2021-08-29T10:45:08.263523",
     "status": "completed"
    },
    "tags": []
   },
   "source": [
    "## Building The Machine Learning Model"
   ]
  },
  {
   "cell_type": "code",
   "execution_count": 27,
   "id": "e30cc37f",
   "metadata": {
    "execution": {
     "iopub.execute_input": "2021-08-29T10:45:08.427964Z",
     "iopub.status.busy": "2021-08-29T10:45:08.427261Z",
     "iopub.status.idle": "2021-08-29T10:45:08.436178Z",
     "shell.execute_reply": "2021-08-29T10:45:08.435598Z",
     "shell.execute_reply.started": "2021-08-29T10:34:45.219945Z"
    },
    "papermill": {
     "duration": 0.066363,
     "end_time": "2021-08-29T10:45:08.436331",
     "exception": false,
     "start_time": "2021-08-29T10:45:08.369968",
     "status": "completed"
    },
    "tags": []
   },
   "outputs": [],
   "source": [
    "# Drop the unecessary columns for the training and testing dataset\n",
    "\n",
    "X_train = train_data.drop([\"Survived\", \"Name\", \"PassengerId\"], axis=1)\n",
    "y_train = train_data[\"Survived\"]\n",
    "X_test  = test_data.drop([\"PassengerId\", \"Name\"], axis=1).copy()"
   ]
  },
  {
   "cell_type": "code",
   "execution_count": 28,
   "id": "955f2a8b",
   "metadata": {
    "execution": {
     "iopub.execute_input": "2021-08-29T10:45:08.551072Z",
     "iopub.status.busy": "2021-08-29T10:45:08.550215Z",
     "iopub.status.idle": "2021-08-29T10:45:08.605998Z",
     "shell.execute_reply": "2021-08-29T10:45:08.605332Z",
     "shell.execute_reply.started": "2021-08-29T10:34:45.236840Z"
    },
    "papermill": {
     "duration": 0.115993,
     "end_time": "2021-08-29T10:45:08.606151",
     "exception": false,
     "start_time": "2021-08-29T10:45:08.490158",
     "status": "completed"
    },
    "tags": []
   },
   "outputs": [],
   "source": [
    "# Cross Validation for Analysing Models\n",
    "\n",
    "from sklearn.model_selection import cross_val_score, StratifiedKFold\n",
    "\n",
    "# We will append cross validation scores of each model used\n",
    "cv_results = {'Model':[], 'Score':[]}\n",
    "\n",
    "# Generating KFold validation sets\n",
    "kfold = StratifiedKFold(n_splits=10)"
   ]
  },
  {
   "cell_type": "markdown",
   "id": "6d11d339",
   "metadata": {
    "papermill": {
     "duration": 0.055045,
     "end_time": "2021-08-29T10:45:08.714899",
     "exception": false,
     "start_time": "2021-08-29T10:45:08.659854",
     "status": "completed"
    },
    "tags": []
   },
   "source": [
    "### Logistic Regression"
   ]
  },
  {
   "cell_type": "code",
   "execution_count": 29,
   "id": "6f8e02a0",
   "metadata": {
    "execution": {
     "iopub.execute_input": "2021-08-29T10:45:08.829080Z",
     "iopub.status.busy": "2021-08-29T10:45:08.828411Z",
     "iopub.status.idle": "2021-08-29T10:45:11.821059Z",
     "shell.execute_reply": "2021-08-29T10:45:11.819879Z",
     "shell.execute_reply.started": "2021-08-29T10:34:45.311125Z"
    },
    "papermill": {
     "duration": 3.053065,
     "end_time": "2021-08-29T10:45:11.821267",
     "exception": false,
     "start_time": "2021-08-29T10:45:08.768202",
     "status": "completed"
    },
    "tags": []
   },
   "outputs": [],
   "source": [
    "from sklearn.linear_model import LogisticRegression\n",
    "\n",
    "log_model = LogisticRegression(solver='liblinear')\n",
    "log_model.fit(X_train, y_train)\n",
    "y_pred_log = log_model.predict(X_test)\n",
    "\n",
    "cv_score = cross_val_score(log_model, X_train, y_train, scoring = \"accuracy\", cv = kfold, n_jobs=4).mean()\n",
    "cv_results['Model'].append('Logistic Regression')\n",
    "cv_results['Score'].append(cv_score)"
   ]
  },
  {
   "cell_type": "markdown",
   "id": "69f4c6af",
   "metadata": {
    "papermill": {
     "duration": 0.056045,
     "end_time": "2021-08-29T10:45:11.943555",
     "exception": false,
     "start_time": "2021-08-29T10:45:11.887510",
     "status": "completed"
    },
    "tags": []
   },
   "source": [
    "### Naive Bayes"
   ]
  },
  {
   "cell_type": "code",
   "execution_count": 30,
   "id": "8ca50c8d",
   "metadata": {
    "execution": {
     "iopub.execute_input": "2021-08-29T10:45:12.058764Z",
     "iopub.status.busy": "2021-08-29T10:45:12.057895Z",
     "iopub.status.idle": "2021-08-29T10:45:12.142410Z",
     "shell.execute_reply": "2021-08-29T10:45:12.141382Z",
     "shell.execute_reply.started": "2021-08-29T10:34:47.917290Z"
    },
    "papermill": {
     "duration": 0.145203,
     "end_time": "2021-08-29T10:45:12.142599",
     "exception": false,
     "start_time": "2021-08-29T10:45:11.997396",
     "status": "completed"
    },
    "tags": []
   },
   "outputs": [],
   "source": [
    "from sklearn.naive_bayes import GaussianNB\n",
    "\n",
    "nb_model = GaussianNB()\n",
    "nb_model.fit(X_train, y_train)\n",
    "y_pred_nb = nb_model.predict(X_test)\n",
    "\n",
    "cv_score = cross_val_score(nb_model, X_train, y_train, scoring = \"accuracy\", cv = kfold, n_jobs=4).mean()\n",
    "cv_results['Model'].append('Naive Bayes')\n",
    "cv_results['Score'].append(cv_score)"
   ]
  },
  {
   "cell_type": "markdown",
   "id": "85a8a54c",
   "metadata": {
    "papermill": {
     "duration": 0.052376,
     "end_time": "2021-08-29T10:45:12.247799",
     "exception": false,
     "start_time": "2021-08-29T10:45:12.195423",
     "status": "completed"
    },
    "tags": []
   },
   "source": [
    "### Random Forest"
   ]
  },
  {
   "cell_type": "code",
   "execution_count": 31,
   "id": "a8117175",
   "metadata": {
    "execution": {
     "iopub.execute_input": "2021-08-29T10:45:12.357302Z",
     "iopub.status.busy": "2021-08-29T10:45:12.356354Z",
     "iopub.status.idle": "2021-08-29T10:45:13.845235Z",
     "shell.execute_reply": "2021-08-29T10:45:13.844491Z",
     "shell.execute_reply.started": "2021-08-29T10:34:47.994304Z"
    },
    "papermill": {
     "duration": 1.544477,
     "end_time": "2021-08-29T10:45:13.845383",
     "exception": false,
     "start_time": "2021-08-29T10:45:12.300906",
     "status": "completed"
    },
    "tags": []
   },
   "outputs": [],
   "source": [
    "from sklearn.ensemble import RandomForestClassifier\n",
    "\n",
    "rf_model = RandomForestClassifier(max_depth=10)\n",
    "# Note: Max depth set to 10 to prevent overfitting \n",
    "\n",
    "rf_model.fit(X_train, y_train)\n",
    "y_pred_rf = rf_model.predict(X_test)\n",
    "\n",
    "cv_score = cross_val_score(rf_model, X_train, y_train, scoring = \"accuracy\", cv = kfold, n_jobs=4).mean()\n",
    "cv_results['Model'].append('Random Forest')\n",
    "cv_results['Score'].append(cv_score)"
   ]
  },
  {
   "cell_type": "markdown",
   "id": "01e0c0c0",
   "metadata": {
    "papermill": {
     "duration": 0.053205,
     "end_time": "2021-08-29T10:45:13.951637",
     "exception": false,
     "start_time": "2021-08-29T10:45:13.898432",
     "status": "completed"
    },
    "tags": []
   },
   "source": [
    "### SVC"
   ]
  },
  {
   "cell_type": "code",
   "execution_count": 32,
   "id": "6df4cb51",
   "metadata": {
    "execution": {
     "iopub.execute_input": "2021-08-29T10:45:14.067451Z",
     "iopub.status.busy": "2021-08-29T10:45:14.066357Z",
     "iopub.status.idle": "2021-08-29T10:45:14.256372Z",
     "shell.execute_reply": "2021-08-29T10:45:14.255293Z",
     "shell.execute_reply.started": "2021-08-29T10:34:49.465504Z"
    },
    "papermill": {
     "duration": 0.251407,
     "end_time": "2021-08-29T10:45:14.256562",
     "exception": false,
     "start_time": "2021-08-29T10:45:14.005155",
     "status": "completed"
    },
    "tags": []
   },
   "outputs": [],
   "source": [
    "from sklearn.svm import SVC\n",
    "\n",
    "svc_model = SVC()\n",
    "svc_model.fit(X_train, y_train)\n",
    "y_pred_svc = svc_model.predict(X_test)\n",
    "\n",
    "cv_score = cross_val_score(svc_model, X_train, y_train, scoring = \"accuracy\", cv = kfold, n_jobs=4).mean()\n",
    "cv_results['Model'].append('Support Vectors')\n",
    "cv_results['Score'].append(cv_score)"
   ]
  },
  {
   "cell_type": "markdown",
   "id": "037bc44c",
   "metadata": {
    "papermill": {
     "duration": 0.054482,
     "end_time": "2021-08-29T10:45:14.364157",
     "exception": false,
     "start_time": "2021-08-29T10:45:14.309675",
     "status": "completed"
    },
    "tags": []
   },
   "source": [
    "### K-Nearest Neighbors"
   ]
  },
  {
   "cell_type": "code",
   "execution_count": 33,
   "id": "b5144979",
   "metadata": {
    "execution": {
     "iopub.execute_input": "2021-08-29T10:45:14.481286Z",
     "iopub.status.busy": "2021-08-29T10:45:14.480557Z",
     "iopub.status.idle": "2021-08-29T10:45:14.581996Z",
     "shell.execute_reply": "2021-08-29T10:45:14.581354Z",
     "shell.execute_reply.started": "2021-08-29T10:34:49.668065Z"
    },
    "papermill": {
     "duration": 0.163124,
     "end_time": "2021-08-29T10:45:14.582142",
     "exception": false,
     "start_time": "2021-08-29T10:45:14.419018",
     "status": "completed"
    },
    "tags": []
   },
   "outputs": [],
   "source": [
    "from sklearn.neighbors import KNeighborsClassifier\n",
    "\n",
    "knn_model = KNeighborsClassifier()\n",
    "knn_model.fit(X_train, y_train)\n",
    "y_pred_knn = knn_model.predict(X_test)\n",
    "\n",
    "cv_score = cross_val_score(knn_model, X_train, y_train, scoring = \"accuracy\", cv = kfold, n_jobs=4).mean()\n",
    "cv_results['Model'].append('K-Nearest Neighbors')\n",
    "cv_results['Score'].append(cv_score)"
   ]
  },
  {
   "cell_type": "markdown",
   "id": "da4c4392",
   "metadata": {
    "papermill": {
     "duration": 0.052797,
     "end_time": "2021-08-29T10:45:14.689388",
     "exception": false,
     "start_time": "2021-08-29T10:45:14.636591",
     "status": "completed"
    },
    "tags": []
   },
   "source": [
    "### Final Predictions"
   ]
  },
  {
   "cell_type": "code",
   "execution_count": 34,
   "id": "a21827f2",
   "metadata": {
    "execution": {
     "iopub.execute_input": "2021-08-29T10:45:14.810120Z",
     "iopub.status.busy": "2021-08-29T10:45:14.809364Z",
     "iopub.status.idle": "2021-08-29T10:45:14.812972Z",
     "shell.execute_reply": "2021-08-29T10:45:14.813572Z",
     "shell.execute_reply.started": "2021-08-29T10:34:49.774454Z"
    },
    "papermill": {
     "duration": 0.069068,
     "end_time": "2021-08-29T10:45:14.813758",
     "exception": false,
     "start_time": "2021-08-29T10:45:14.744690",
     "status": "completed"
    },
    "tags": []
   },
   "outputs": [
    {
     "data": {
      "text/html": [
       "<div>\n",
       "<style scoped>\n",
       "    .dataframe tbody tr th:only-of-type {\n",
       "        vertical-align: middle;\n",
       "    }\n",
       "\n",
       "    .dataframe tbody tr th {\n",
       "        vertical-align: top;\n",
       "    }\n",
       "\n",
       "    .dataframe thead th {\n",
       "        text-align: right;\n",
       "    }\n",
       "</style>\n",
       "<table border=\"1\" class=\"dataframe\">\n",
       "  <thead>\n",
       "    <tr style=\"text-align: right;\">\n",
       "      <th></th>\n",
       "      <th>Model</th>\n",
       "      <th>Score</th>\n",
       "    </tr>\n",
       "  </thead>\n",
       "  <tbody>\n",
       "    <tr>\n",
       "      <th>0</th>\n",
       "      <td>Logistic Regression</td>\n",
       "      <td>0.795730</td>\n",
       "    </tr>\n",
       "    <tr>\n",
       "      <th>1</th>\n",
       "      <td>Naive Bayes</td>\n",
       "      <td>0.764282</td>\n",
       "    </tr>\n",
       "    <tr>\n",
       "      <th>2</th>\n",
       "      <td>Random Forest</td>\n",
       "      <td>0.835069</td>\n",
       "    </tr>\n",
       "    <tr>\n",
       "      <th>3</th>\n",
       "      <td>Support Vectors</td>\n",
       "      <td>0.677953</td>\n",
       "    </tr>\n",
       "    <tr>\n",
       "      <th>4</th>\n",
       "      <td>K-Nearest Neighbors</td>\n",
       "      <td>0.720562</td>\n",
       "    </tr>\n",
       "  </tbody>\n",
       "</table>\n",
       "</div>"
      ],
      "text/plain": [
       "                 Model     Score\n",
       "0  Logistic Regression  0.795730\n",
       "1          Naive Bayes  0.764282\n",
       "2        Random Forest  0.835069\n",
       "3      Support Vectors  0.677953\n",
       "4  K-Nearest Neighbors  0.720562"
      ]
     },
     "execution_count": 34,
     "metadata": {},
     "output_type": "execute_result"
    }
   ],
   "source": [
    "result_df = pd.DataFrame.from_dict(cv_results)\n",
    "\n",
    "#Note that this is corss-validation score and not the final score \n",
    "result_df"
   ]
  },
  {
   "cell_type": "code",
   "execution_count": 35,
   "id": "913b261d",
   "metadata": {
    "execution": {
     "iopub.execute_input": "2021-08-29T10:45:14.925980Z",
     "iopub.status.busy": "2021-08-29T10:45:14.925203Z",
     "iopub.status.idle": "2021-08-29T10:45:14.931996Z",
     "shell.execute_reply": "2021-08-29T10:45:14.931446Z",
     "shell.execute_reply.started": "2021-08-29T10:34:49.790398Z"
    },
    "papermill": {
     "duration": 0.063465,
     "end_time": "2021-08-29T10:45:14.932142",
     "exception": false,
     "start_time": "2021-08-29T10:45:14.868677",
     "status": "completed"
    },
    "tags": []
   },
   "outputs": [],
   "source": [
    "# So we will be using random forest as the model of choice.\n",
    "passenger_id = test_data['PassengerId'] # This will come in useful at the time of submission\n",
    "test_data.drop([\"PassengerId\", \"Name\"], axis=1, inplace=True)"
   ]
  },
  {
   "cell_type": "code",
   "execution_count": 36,
   "id": "2ec32cb0",
   "metadata": {
    "execution": {
     "iopub.execute_input": "2021-08-29T10:45:15.047813Z",
     "iopub.status.busy": "2021-08-29T10:45:15.047123Z",
     "iopub.status.idle": "2021-08-29T10:45:15.074490Z",
     "shell.execute_reply": "2021-08-29T10:45:15.074988Z",
     "shell.execute_reply.started": "2021-08-29T10:34:49.798323Z"
    },
    "papermill": {
     "duration": 0.089389,
     "end_time": "2021-08-29T10:45:15.075168",
     "exception": false,
     "start_time": "2021-08-29T10:45:14.985779",
     "status": "completed"
    },
    "tags": []
   },
   "outputs": [
    {
     "data": {
      "text/html": [
       "<div>\n",
       "<style scoped>\n",
       "    .dataframe tbody tr th:only-of-type {\n",
       "        vertical-align: middle;\n",
       "    }\n",
       "\n",
       "    .dataframe tbody tr th {\n",
       "        vertical-align: top;\n",
       "    }\n",
       "\n",
       "    .dataframe thead th {\n",
       "        text-align: right;\n",
       "    }\n",
       "</style>\n",
       "<table border=\"1\" class=\"dataframe\">\n",
       "  <thead>\n",
       "    <tr style=\"text-align: right;\">\n",
       "      <th></th>\n",
       "      <th>PassengerId</th>\n",
       "      <th>Survived</th>\n",
       "    </tr>\n",
       "  </thead>\n",
       "  <tbody>\n",
       "    <tr>\n",
       "      <th>0</th>\n",
       "      <td>892</td>\n",
       "      <td>0</td>\n",
       "    </tr>\n",
       "    <tr>\n",
       "      <th>1</th>\n",
       "      <td>893</td>\n",
       "      <td>0</td>\n",
       "    </tr>\n",
       "    <tr>\n",
       "      <th>2</th>\n",
       "      <td>894</td>\n",
       "      <td>0</td>\n",
       "    </tr>\n",
       "    <tr>\n",
       "      <th>3</th>\n",
       "      <td>895</td>\n",
       "      <td>0</td>\n",
       "    </tr>\n",
       "    <tr>\n",
       "      <th>4</th>\n",
       "      <td>896</td>\n",
       "      <td>0</td>\n",
       "    </tr>\n",
       "    <tr>\n",
       "      <th>...</th>\n",
       "      <td>...</td>\n",
       "      <td>...</td>\n",
       "    </tr>\n",
       "    <tr>\n",
       "      <th>413</th>\n",
       "      <td>1305</td>\n",
       "      <td>0</td>\n",
       "    </tr>\n",
       "    <tr>\n",
       "      <th>414</th>\n",
       "      <td>1306</td>\n",
       "      <td>1</td>\n",
       "    </tr>\n",
       "    <tr>\n",
       "      <th>415</th>\n",
       "      <td>1307</td>\n",
       "      <td>0</td>\n",
       "    </tr>\n",
       "    <tr>\n",
       "      <th>416</th>\n",
       "      <td>1308</td>\n",
       "      <td>0</td>\n",
       "    </tr>\n",
       "    <tr>\n",
       "      <th>417</th>\n",
       "      <td>1309</td>\n",
       "      <td>1</td>\n",
       "    </tr>\n",
       "  </tbody>\n",
       "</table>\n",
       "<p>418 rows × 2 columns</p>\n",
       "</div>"
      ],
      "text/plain": [
       "     PassengerId  Survived\n",
       "0            892         0\n",
       "1            893         0\n",
       "2            894         0\n",
       "3            895         0\n",
       "4            896         0\n",
       "..           ...       ...\n",
       "413         1305         0\n",
       "414         1306         1\n",
       "415         1307         0\n",
       "416         1308         0\n",
       "417         1309         1\n",
       "\n",
       "[418 rows x 2 columns]"
      ]
     },
     "execution_count": 36,
     "metadata": {},
     "output_type": "execute_result"
    }
   ],
   "source": [
    "y_preds = rf_model.predict(test_data)\n",
    "submission_df = pd.DataFrame(np.stack([passenger_id, y_preds], axis=1), columns=['PassengerId', 'Survived'])\n",
    "submission_df"
   ]
  },
  {
   "cell_type": "code",
   "execution_count": 37,
   "id": "3701d9e7",
   "metadata": {
    "execution": {
     "iopub.execute_input": "2021-08-29T10:45:15.187858Z",
     "iopub.status.busy": "2021-08-29T10:45:15.187168Z",
     "iopub.status.idle": "2021-08-29T10:45:15.190206Z",
     "shell.execute_reply": "2021-08-29T10:45:15.190671Z",
     "shell.execute_reply.started": "2021-08-29T10:34:49.838131Z"
    },
    "papermill": {
     "duration": 0.061643,
     "end_time": "2021-08-29T10:45:15.190843",
     "exception": false,
     "start_time": "2021-08-29T10:45:15.129200",
     "status": "completed"
    },
    "tags": []
   },
   "outputs": [],
   "source": [
    "# Save the result as csv \n",
    "#submission_df.to_csv(\"Submission_1.csv\", index=False)"
   ]
  },
  {
   "cell_type": "markdown",
   "id": "26d990f8",
   "metadata": {
    "papermill": {
     "duration": 0.054155,
     "end_time": "2021-08-29T10:45:15.299154",
     "exception": false,
     "start_time": "2021-08-29T10:45:15.244999",
     "status": "completed"
    },
    "tags": []
   },
   "source": [
    "## Future Scope And Conclusion"
   ]
  },
  {
   "cell_type": "markdown",
   "id": "38818a06",
   "metadata": {
    "papermill": {
     "duration": 0.054042,
     "end_time": "2021-08-29T10:45:15.407313",
     "exception": false,
     "start_time": "2021-08-29T10:45:15.353271",
     "status": "completed"
    },
    "tags": []
   },
   "source": [
    "* While I have tried to cover and analyse many columns, certain columns have been left out. For example, the columns SibSp and Parch can be utilized to Feature Engineer another column describing the Family size of a PassegerId. Family size may prove an important parameter for survival.\n",
    "\n",
    "* Similarly, Ticket columns can be put to better use by clubbing ticket numbers of passengers from same Class, Cabin or Family.\n",
    "\n",
    "* As far as accuracy of the model is concerned, it gave me a 0.7703 score on submission. This score not good as far as i am concerned. But, it can be easily improved using hyperparameter tuning of the models. GridSearchCV can be used for finding out the best possible parameters for each model.\n",
    "\n",
    "**This concludes the analysis for the titanic dataset.**"
   ]
  }
 ],
 "metadata": {
  "kernelspec": {
   "display_name": "Python 3 (ipykernel)",
   "language": "python",
   "name": "python3"
  },
  "language_info": {
   "codemirror_mode": {
    "name": "ipython",
    "version": 3
   },
   "file_extension": ".py",
   "mimetype": "text/x-python",
   "name": "python",
   "nbconvert_exporter": "python",
   "pygments_lexer": "ipython3",
   "version": "3.9.7"
  },
  "papermill": {
   "default_parameters": {},
   "duration": 23.474179,
   "end_time": "2021-08-29T10:45:16.272107",
   "environment_variables": {},
   "exception": null,
   "input_path": "__notebook__.ipynb",
   "output_path": "__notebook__.ipynb",
   "parameters": {},
   "start_time": "2021-08-29T10:44:52.797928",
   "version": "2.3.3"
  }
 },
 "nbformat": 4,
 "nbformat_minor": 5
}
